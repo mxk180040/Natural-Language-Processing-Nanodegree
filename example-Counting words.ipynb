{
 "cells": [
  {
   "cell_type": "code",
   "execution_count": 2,
   "metadata": {},
   "outputs": [
    {
     "name": "stdout",
     "output_type": "stream",
     "text": [
      "10 most common words:\n",
      "Word\tCount\n",
      "e\t54\n",
      "a\t43\n",
      "t\t36\n",
      "s\t32\n",
      "i\t32\n",
      "o\t30\n",
      "n\t28\n",
      "r\t28\n",
      "h\t28\n",
      "l\t23\n",
      "\n",
      "10 least common words:\n",
      "Word\tCount\n",
      "c\t11\n",
      "b\t10\n",
      "p\t8\n",
      "y\t5\n",
      "v\t4\n",
      "x\t2\n",
      "j\t1\n",
      "k\t1\n",
      "â€”p\t1\n",
      "â€” e\t1\n"
     ]
    }
   ],
   "source": [
    "import re\n",
    "\n",
    "\"\"\"Count words.\"\"\"\n",
    "\n",
    "def count_words(text):\n",
    "    \"\"\"Count how many times each unique word occurs in text.\"\"\"\n",
    "    counts = dict()  # dictionary of { <word>: <count> } pairs to return\n",
    "\n",
    "    # TODO: Convert to lowercase\n",
    "    text = text.lower()\n",
    "    #print(text)\n",
    "    # TODO: Split text into tokens (words), leaving out punctuation\n",
    "    # (Hint: Use regex to split on non-alphanumeric characters)\n",
    "    text_list = re.split(r'(?<=[a-z])[\\s\\W]*',text)\n",
    "\n",
    "    # the split leaves an extra word '' at the end of the list\n",
    "    # refreshing the list this way removes it\n",
    "    # text_list = text_list[0:-1]\n",
    "    text_list = [i for i in text_list if i != '']\n",
    "    # print(text_list)\n",
    "\n",
    "    # TODO: Aggregate word counts using a dictionary\n",
    "    for word in text_list:\n",
    "        if word in counts:\n",
    "            counts[word] += 1\n",
    "        else:\n",
    "            counts[word] = 1\n",
    "\n",
    "    return counts\n",
    "\n",
    "\n",
    "def test_run():\n",
    "    with open(\"input.txt\", \"r\") as f:\n",
    "        text = f.read()\n",
    "        counts = count_words(text)\n",
    "        sorted_counts = sorted(counts.items(), key=lambda pair: pair[1], reverse=True)\n",
    "\n",
    "        print(\"10 most common words:\\nWord\\tCount\")\n",
    "        for word, count in sorted_counts[:10]:\n",
    "            print(\"{}\\t{}\".format(word, count))\n",
    "\n",
    "        print(\"\\n10 least common words:\\nWord\\tCount\")\n",
    "        for word, count in sorted_counts[-10:]:\n",
    "            print(\"{}\\t{}\".format(word, count))\n",
    "\n",
    "\n",
    "if __name__ == \"__main__\":\n",
    "    test_run()\n"
   ]
  },
  {
   "cell_type": "code",
   "execution_count": null,
   "metadata": {},
   "outputs": [],
   "source": []
  },
  {
   "cell_type": "code",
   "execution_count": null,
   "metadata": {},
   "outputs": [],
   "source": []
  }
 ],
 "metadata": {
  "kernelspec": {
   "display_name": "Python 3",
   "language": "python",
   "name": "python3"
  },
  "language_info": {
   "codemirror_mode": {
    "name": "ipython",
    "version": 3
   },
   "file_extension": ".py",
   "mimetype": "text/x-python",
   "name": "python",
   "nbconvert_exporter": "python",
   "pygments_lexer": "ipython3",
   "version": "3.7.3"
  }
 },
 "nbformat": 4,
 "nbformat_minor": 2
}
